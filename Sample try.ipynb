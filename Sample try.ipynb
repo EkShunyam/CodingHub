{
 "cells": [
  {
   "cell_type": "markdown",
   "id": "8903e894-c54a-4071-8108-7c5242edb7b7",
   "metadata": {},
   "source": [
    "# this will be the init one \n",
    " get it "
   ]
  },
  {
   "cell_type": "markdown",
   "id": "3a380361-a16e-43d4-994c-e01ceb11a410",
   "metadata": {},
   "source": [
    "### semi header\n"
   ]
  },
  {
   "cell_type": "code",
   "execution_count": 1,
   "id": "3f883752-b1f1-4d3c-a71a-a93fe0aa9572",
   "metadata": {},
   "outputs": [
    {
     "data": {
      "text/plain": [
       "3"
      ]
     },
     "execution_count": 1,
     "metadata": {},
     "output_type": "execute_result"
    }
   ],
   "source": [
    "1+2"
   ]
  },
  {
   "cell_type": "code",
   "execution_count": 2,
   "id": "3de1435c-a51f-4860-8437-3b8dfa4bdfdb",
   "metadata": {},
   "outputs": [],
   "source": [
    "from numpy import *\n"
   ]
  },
  {
   "cell_type": "markdown",
   "id": "b99bac01-97ec-401f-b6fd-ae339fe779f4",
   "metadata": {},
   "source": [
    "heres how to calculate `sin`:"
   ]
  },
  {
   "cell_type": "code",
   "execution_count": null,
   "id": "75875010-8697-4fd6-ab4a-a3b7642a4e9e",
   "metadata": {},
   "outputs": [],
   "source": [
    "a = array("
   ]
  }
 ],
 "metadata": {
  "kernelspec": {
   "display_name": "Python 3 (ipykernel)",
   "language": "python",
   "name": "python3"
  },
  "language_info": {
   "codemirror_mode": {
    "name": "ipython",
    "version": 3
   },
   "file_extension": ".py",
   "mimetype": "text/x-python",
   "name": "python",
   "nbconvert_exporter": "python",
   "pygments_lexer": "ipython3",
   "version": "3.10.12"
  }
 },
 "nbformat": 4,
 "nbformat_minor": 5
}
